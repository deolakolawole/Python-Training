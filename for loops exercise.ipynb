{
 "cells": [
  {
   "cell_type": "markdown",
   "id": "91ca056a",
   "metadata": {},
   "source": [
    "# for Loop Exercise"
   ]
  },
  {
   "attachments": {},
   "cell_type": "markdown",
   "id": "878b45d6",
   "metadata": {},
   "source": [
    "Question 1.\n",
    "Given a list of numbers, find the average using for loop\n",
    "\n",
    "Number = [10, 20, 30, 40, 50, 60]"
   ]
  },
  {
   "cell_type": "markdown",
   "id": "68a1b012",
   "metadata": {},
   "source": [
    "***Hint***\n",
    "Start with sum = 0"
   ]
  },
  {
   "cell_type": "code",
   "execution_count": null,
   "id": "cf8bcf14",
   "metadata": {},
   "outputs": [],
   "source": [
    "\n",
    "sum = 0\n",
    "## Type your answer here.\n",
    "\n",
    "\n",
    "\n",
    "\n"
   ]
  },
  {
   "cell_type": "markdown",
   "id": "f30bdfe4",
   "metadata": {},
   "source": [
    "Expected Output\n",
    "\n",
    "35"
   ]
  },
  {
   "cell_type": "markdown",
   "id": "432aa973",
   "metadata": {},
   "source": [
    "\n",
    "\n",
    "\n",
    "\n",
    "Question 2. \n",
    "Write a program that prompts a user to enter 2 integers.\n",
    "suppose the integers are p and q, the program then prints p rows of q hastags.\n",
    "\n",
    "for instance, the program may behave as shown in the expected output\n"
   ]
  },
  {
   "cell_type": "markdown",
   "id": "69f710e2",
   "metadata": {},
   "source": [
    "***Hint***\n",
    "you will need 2 for loops together\n",
    "\n",
    "***Note*** by default print() function adds a new line at the end of its output.\n",
    "if you do not want this to happen, you have to pass in end = '' to the print() function.\n",
    "This will remove the new line. ***Note*** the '' is made of 2 single quotes not single double quote\n",
    "\n",
    "For instance\n",
    "\n",
    "print ('A')\n",
    "\n",
    "Print ('B')\n",
    "\n",
    "gives us\n",
    "\n",
    "A\n",
    "\n",
    "B\n",
    "\n",
    "while \n",
    "\n",
    "print ('A', end = '')\n",
    "\n",
    "Print ('B', end = '')\n",
    "\n",
    "gives us\n",
    "\n",
    "AB\n"
   ]
  },
  {
   "cell_type": "code",
   "execution_count": null,
   "id": "1f88133f",
   "metadata": {},
   "outputs": [],
   "source": []
  },
  {
   "cell_type": "markdown",
   "id": "73329fe5",
   "metadata": {},
   "source": [
    "Expected output\n",
    "\n",
    "Lets say user entered p == 5 and q == 10\n",
    "\n",
    "##########\n",
    "\n",
    "##########\n",
    "\n",
    "##########\n",
    "\n",
    "##########\n",
    "\n",
    "##########"
   ]
  },
  {
   "cell_type": "code",
   "execution_count": null,
   "id": "8ceb945c",
   "metadata": {},
   "outputs": [],
   "source": [
    "p = int(input('Please enter the number of rows: '))\n",
    "q = int(input('Please enter the number of Hastags per row: '))\n",
    "##Type your answer here.\n",
    "\n",
    "\n",
    "\n",
    "\n",
    "\n",
    "\n"
   ]
  },
  {
   "cell_type": "markdown",
   "id": "00699e58",
   "metadata": {},
   "source": [
    "Question 3\n",
    "Write a for loop which print \"Hello!, \" plus each name in the list. i.e.: \"Hello!, Ade\""
   ]
  },
  {
   "cell_type": "code",
   "execution_count": null,
   "id": "43ea6290",
   "metadata": {},
   "outputs": [],
   "source": [
    "lst=[\"Ade\", \"Ada\", \"Chidi\", \"Ola\", \"Nkechi\", \"Emma\", \"Abdul\"]\n",
    "###Type your answer here.\n",
    "\n",
    "\n",
    "\n",
    "\n",
    "\n"
   ]
  },
  {
   "cell_type": "markdown",
   "id": "84200a30",
   "metadata": {},
   "source": [
    "Using a for loop and .append() method append each item with a Dr. prefix to the lst."
   ]
  },
  {
   "cell_type": "markdown",
   "id": "3b3ce9e0",
   "metadata": {},
   "source": [
    "**HINT 1**\n",
    "“Dr. ” + i will create a string with “Dr. ” prefix and name.\n",
    "\n",
    "**HINT 2**\n",
    ".append() method can be u"
   ]
  },
  {
   "cell_type": "code",
   "execution_count": null,
   "id": "aa0fc400",
   "metadata": {},
   "outputs": [],
   "source": [
    "lst1=[\"Phil\", \"Oz\", \"Seuss\", \"Dre\"]\n",
    "lst2=[]\n",
    "#Type your answer here.\n",
    "\n",
    "\n",
    "\n",
    "\n",
    "print(lst2)\n"
   ]
  }
 ],
 "metadata": {
  "kernelspec": {
   "display_name": "Python 3 (ipykernel)",
   "language": "python",
   "name": "python3"
  },
  "language_info": {
   "codemirror_mode": {
    "name": "ipython",
    "version": 3
   },
   "file_extension": ".py",
   "mimetype": "text/x-python",
   "name": "python",
   "nbconvert_exporter": "python",
   "pygments_lexer": "ipython3",
   "version": "3.9.7"
  }
 },
 "nbformat": 4,
 "nbformat_minor": 5
}
