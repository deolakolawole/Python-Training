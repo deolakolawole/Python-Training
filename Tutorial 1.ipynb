{
 "cells": [
  {
   "cell_type": "markdown",
   "id": "61fc28b3",
   "metadata": {},
   "source": [
    "# Python Exercises"
   ]
  },
  {
   "cell_type": "markdown",
   "id": "e7ee493f",
   "metadata": {},
   "source": [
    "# Exercise 1: Create a list by picking an odd-index items from the first list and even index items from the second.\n",
    "\n",
    "Given two lists, l1 and l2, write a program to create a third list l3 by picking an odd-index elements from the list l1 and even index elements from the list l2.\n",
    "\n",
    "l1 = [3, 6, 9, 12, 15, 18, 21]\n",
    "\n",
    "l2 = [4, 8, 13, 16, 20, 24, 28]"
   ]
  },
  {
   "cell_type": "markdown",
   "id": "a625c8ae",
   "metadata": {},
   "source": [
    "# ****HINT***\n",
    "use slicing\n",
    "\n",
    "# Expected Output\n",
    "\n",
    "Element at odd-index positions from list one\n",
    "\n",
    "[6, 12, 18]\n",
    "\n",
    "Element at even-index positions from list two\n",
    "\n",
    "[4, 12, 20, 28]\n",
    "\n",
    "Printing Final third list\n",
    "\n",
    "[6, 12, 18, 4, 12, 20, 28]"
   ]
  },
  {
   "cell_type": "code",
   "execution_count": null,
   "id": "ecc0adcb",
   "metadata": {},
   "outputs": [],
   "source": [
    "#your code here\n",
    "\n"
   ]
  },
  {
   "cell_type": "markdown",
   "id": "c7385258",
   "metadata": {},
   "source": [
    "# Exercise 2: Remove and add item in a list\n",
    "\n",
    "Write a program to remove the item present at index 4 and add it to the 2nd position and at the end of the list.\n",
    "\n",
    "list1[34, 54, 67, 89, 11, 43, 94]"
   ]
  },
  {
   "cell_type": "markdown",
   "id": "e84f4fe5",
   "metadata": {},
   "source": [
    "# ***HINT***\n",
    "Use the list methods, pop(), insert() and append()\n",
    "\n",
    "\n",
    "# Expected Output:\n",
    "\n",
    "\n",
    "List After removing element at index 4  [34, 54, 67, 89, 43, 94]\n",
    "\n",
    "List after Adding element at index 2  [34, 54, 11, 67, 89, 43, 94]\n",
    "\n",
    "List after Adding element at last  [34, 54, 11, 67, 89, 43, 94, 11]"
   ]
  },
  {
   "cell_type": "code",
   "execution_count": null,
   "id": "dd512b41",
   "metadata": {},
   "outputs": [],
   "source": [
    "#yur code here\n",
    "\n"
   ]
  },
  {
   "cell_type": "markdown",
   "id": "c89f59b1",
   "metadata": {},
   "source": [
    "# Exercise 3\n",
    "\n",
    "Write a program to finad all occurrences of \"NIGERIA\" in a given string ignoring the cases.\n",
    "\n",
    "str1 =\"NIGERIA is great. only that  politicians in nigeria have killed nigeria\""
   ]
  },
  {
   "cell_type": "markdown",
   "id": "852a50e8",
   "metadata": {},
   "source": [
    "# ****HINT****\n",
    "use sub str.\n",
    "use the string function count( )\n",
    "\n",
    "# expected output\n",
    "The NIGERIA count is: 3\n"
   ]
  },
  {
   "cell_type": "code",
   "execution_count": null,
   "id": "acf063bc",
   "metadata": {},
   "outputs": [],
   "source": [
    "#your code here\n",
    "\n"
   ]
  }
 ],
 "metadata": {
  "kernelspec": {
   "display_name": "Python 3 (ipykernel)",
   "language": "python",
   "name": "python3"
  },
  "language_info": {
   "codemirror_mode": {
    "name": "ipython",
    "version": 3
   },
   "file_extension": ".py",
   "mimetype": "text/x-python",
   "name": "python",
   "nbconvert_exporter": "python",
   "pygments_lexer": "ipython3",
   "version": "3.9.7"
  }
 },
 "nbformat": 4,
 "nbformat_minor": 5
}
